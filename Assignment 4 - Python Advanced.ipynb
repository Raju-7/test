{
 "cells": [
  {
   "cell_type": "markdown",
   "metadata": {},
   "source": [
    "# Assignment 4 Questions"
   ]
  },
  {
   "cell_type": "markdown",
   "metadata": {},
   "source": [
    "## Problem Statement"
   ]
  },
  {
   "cell_type": "markdown",
   "metadata": {},
   "source": [
    "Q.1 Given a sequence of n values x1, x2, ..., xn and a window size k>0, the k-th moving average of\n",
    "the given sequence is defined as follows:\n",
    "\n",
    "The moving average sequence has n-k+1 elements as shown below.\n",
    "The moving averages with k=4 of a ten-value sequence (n=10) is shown below\n",
    "\n",
    "    i 1 2 3 4 5 6 7 8 9 10\n",
    "    ===== == == == == == == == == == ==\n",
    "    Input 10 20 30 40 50 60 70 80 90 100\n",
    "    y1 25 = (10+20+30+40)/4\n",
    "    y2 35 = (20+30+40+50)/4\n",
    "    y3 45 = (30+40+50+60)/4\n",
    "    y4 55 = (40+50+60+70)/4\n",
    "    y5 65 = (50+60+70+80)/4\n",
    "    y6 75 = (60+70+80+90)/4\n",
    "    y7 85 = (70+80+90+100)/4\n",
    "\n",
    "Thus, the moving average sequence has n-k+1=10-4+1=7 values.\n",
    "\n",
    "Write a function to find moving average in an array over a window:\n",
    "\n",
    "Test it over [3, 5, 7, 2, 8, 10, 11, 65, 72, 81, 99, 100, 150] and window of 3."
   ]
  },
  {
   "cell_type": "code",
   "execution_count": 8,
   "metadata": {},
   "outputs": [
    {
     "data": {
      "text/plain": [
       "array([  5.  ,   4.67,   5.67,   6.67,   9.67,  28.67,  49.33,  72.67,\n",
       "        84.  ,  93.33, 116.33])"
      ]
     },
     "execution_count": 8,
     "metadata": {},
     "output_type": "execute_result"
    }
   ],
   "source": [
    "import numpy as np\n",
    "def moving_avg(a, n=3):\n",
    "    asum = np.cumsum(a, dtype=float)\n",
    "    asum[n:] = asum[n:] - asum[:-n]\n",
    "    return asum[n - 1:]/n\n",
    "a = [3, 5, 7, 2, 8, 10, 11, 65, 72, 81, 99, 100, 150]\n",
    "a1 = np.array(a)\n",
    "np.array(moving_avg(a1, n=3)).round(2)"
   ]
  },
  {
   "cell_type": "markdown",
   "metadata": {},
   "source": [
    "Q.2 How-to-count-distance-to-the-previous-zero\n",
    "For each value, count the difference back to the previous zero (or the start of the Series,\n",
    "whichever is closer)\n",
    "create a new column 'Y'\n",
    "Consider a DataFrame df where there is an integer column 'X'\n",
    "    \n",
    "    import pandas as pd\n",
    "    df = pd.DataFrame({'X': [7, 2, 0, 3, 4, 2, 5, 0, 3, 4]})"
   ]
  },
  {
   "cell_type": "code",
   "execution_count": 12,
   "metadata": {},
   "outputs": [
    {
     "name": "stdout",
     "output_type": "stream",
     "text": [
      "   X  Y\n",
      "0  7  1\n",
      "1  2  2\n",
      "2  0  0\n",
      "3  3  1\n",
      "4  4  2\n",
      "5  2  3\n",
      "6  5  4\n",
      "7  0  0\n",
      "8  3  1\n",
      "9  4  2\n"
     ]
    },
    {
     "name": "stderr",
     "output_type": "stream",
     "text": [
      "D:\\python\\lib\\site-packages\\ipykernel_launcher.py:4: FutureWarning: Series.nonzero() is deprecated and will be removed in a future version.Use Series.to_numpy().nonzero() instead\n",
      "  after removing the cwd from sys.path.\n"
     ]
    }
   ],
   "source": [
    "import pandas as pd\n",
    "\n",
    "df = pd.DataFrame({'X': [7, 2, 0, 3, 4, 2, 5, 0, 3, 4]})\n",
    "izero = np.r_[-1, (df['X'] == 0).nonzero()[0]] # indices of zeros\n",
    "idx = np.arange(len(df))\n",
    "df['Y'] = idx - izero[np.searchsorted(izero - 1, idx) - 1]\n",
    "print(df)"
   ]
  },
  {
   "cell_type": "markdown",
   "metadata": {},
   "source": [
    "Q.3 Create a DatetimeIndex that contains each business day of 2015 and use it to index a Series of\n",
    "random numbers."
   ]
  },
  {
   "cell_type": "code",
   "execution_count": 4,
   "metadata": {},
   "outputs": [
    {
     "name": "stdout",
     "output_type": "stream",
     "text": [
      "2015 calendar----\n",
      " 2015-01-01    0.786788\n",
      "2015-01-02    0.639100\n",
      "2015-01-03    0.447889\n",
      "2015-01-04    0.724583\n",
      "2015-01-05    0.079421\n",
      "                ...   \n",
      "2015-12-27    0.284127\n",
      "2015-12-28    0.202023\n",
      "2015-12-29    0.851837\n",
      "2015-12-30    0.964265\n",
      "2015-12-31    0.412977\n",
      "Freq: D, Length: 365, dtype: float64\n"
     ]
    }
   ],
   "source": [
    "dates = pd.date_range('2015-01-01','2015-12-31')\n",
    "s = pd.Series(np.random.rand(dates.shape[0]),index = dates)\n",
    "print(\"2015 calendar----\\n\",s)"
   ]
  }
 ],
 "metadata": {
  "kernelspec": {
   "display_name": "Python 3",
   "language": "python",
   "name": "python3"
  },
  "language_info": {
   "codemirror_mode": {
    "name": "ipython",
    "version": 3
   },
   "file_extension": ".py",
   "mimetype": "text/x-python",
   "name": "python",
   "nbconvert_exporter": "python",
   "pygments_lexer": "ipython3",
   "version": "3.7.4"
  }
 },
 "nbformat": 4,
 "nbformat_minor": 2
}
