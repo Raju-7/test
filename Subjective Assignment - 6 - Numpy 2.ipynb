{
 "cells": [
  {
   "cell_type": "markdown",
   "metadata": {},
   "source": [
    "# Assignment"
   ]
  },
  {
   "cell_type": "markdown",
   "metadata": {},
   "source": [
    "Q1. Write the NumPy program to create an array of ones and an array\n",
    "of zeros?\n",
    "\n",
    "    Expected OutputCreate an array of zeros\n",
    "    Default type is float\n",
    "    [[ 0. 0.]]\n",
    "    Type changes to int\n",
    "    [[0 0]]\n",
    "    Create an array of ones\n",
    "    Default type is float\n",
    "    [[ 1. 1.]]\n",
    "    Type changes to int\n",
    "    [[1 1]]"
   ]
  },
  {
   "cell_type": "code",
   "execution_count": 1,
   "metadata": {},
   "outputs": [
    {
     "name": "stdout",
     "output_type": "stream",
     "text": [
      "Default type is float:\n",
      " [[0. 0.]]\n",
      "Type changes to int:\n",
      " [[0 0]]\n",
      "Default type is float :\n",
      " [[1. 1.]]\n",
      "Type changes to int:\n",
      " [[1 1]]\n"
     ]
    }
   ],
   "source": [
    "import numpy as np\n",
    "x = np.zeros((1, 2))\n",
    "print(\"Default type is float:\\n\",x)\n",
    "x = np.zeros((1,2), dtype = np.int)\n",
    "print(\"Type changes to int:\\n\",x)\n",
    "\n",
    "#Create an array of ones\n",
    "y= np.ones((1,2)) \n",
    "print(\"Default type is float :\\n\",y)\n",
    "y = np.ones((1,2), dtype = np.int)\n",
    "print(\"Type changes to int:\\n\",y)"
   ]
  },
  {
   "cell_type": "markdown",
   "metadata": {},
   "source": [
    "Q2. Write the NumPy program to change the dimension of an array?\n",
    "\n",
    "    Expected Output6 rows and 0 columns\n",
    "    (6,)\n",
    "    (3, 3) -> 3 rows and 3 columns\n",
    "    [[1 2 3]\n",
    "    [4 5 6]\n",
    "    [7 8 9]]\n",
    "    Change array shape to (3, 3) -> 3 rows and 3 columns\n",
    "    [[1 2 3]\n",
    "    [4 5 6]\n",
    "    [7 8 9]]"
   ]
  },
  {
   "cell_type": "code",
   "execution_count": 2,
   "metadata": {},
   "outputs": [
    {
     "name": "stdout",
     "output_type": "stream",
     "text": [
      "6 rows and 0 columns:\n",
      " (6,)\n",
      "3 rows and 3 columns:\n",
      " [[1 2 3]\n",
      " [4 5 6]\n",
      " [7 8 9]]\n",
      "Change array shape to (3, 3) -> 3 rows and 3 columns\n",
      "[[1 2 3]\n",
      " [4 5 6]\n",
      " [7 8 9]]\n"
     ]
    }
   ],
   "source": [
    "X = np.array([1,2,3,4,5,6])\n",
    "print(\"6 rows and 0 columns:\\n\", X.shape)\n",
    "\n",
    "y = np.array([[1, 2, 3],[4, 5, 6],[7,8,9]])\n",
    "print(\"3 rows and 3 columns:\\n\", y)\n",
    "\n",
    "x = np.array([1,2,3,4,5,6,7,8,9])\n",
    "print(\"Change array shape to (3, 3) -> 3 rows and 3 columns\")\n",
    "x.shape = (3,3)\n",
    "print(x)"
   ]
  },
  {
   "cell_type": "markdown",
   "metadata": {},
   "source": [
    "Q3. Write the NumPy program to create a new shape to an array\n",
    "without changing its data ?\n",
    "\n",
    "    Reshape 3x2-\n",
    "    [[1 2]\n",
    "    [3 4]\n",
    "    [5 6]]\n",
    "    Reshape 2x3-\n",
    "    [[1 2 3]\n",
    "    [4 5 6]]"
   ]
  },
  {
   "cell_type": "code",
   "execution_count": 3,
   "metadata": {},
   "outputs": [
    {
     "name": "stdout",
     "output_type": "stream",
     "text": [
      "Reshape 3x2- \n",
      " [[1 2]\n",
      " [3 4]\n",
      " [5 6]]\n",
      "Reshape 2x3-\n",
      " [[1 2 3]\n",
      " [4 5 6]]\n"
     ]
    }
   ],
   "source": [
    "x = np.array([1,2,3,4,5,6])\n",
    "y = np.reshape(x,(3,2))\n",
    "print(\"Reshape 3x2- \\n\",y)\n",
    "\n",
    "z = np.reshape(x,(2,3))\n",
    "print(\"Reshape 2x3-\\n\",z)"
   ]
  },
  {
   "cell_type": "markdown",
   "metadata": {},
   "source": [
    "Q4. Write the NumPy program to create a new array of 3*5, filled with\n",
    "2?\n",
    "\n",
    "    Expected Output-\n",
    "    [[2 2 2 2 2]\n",
    "    [2 2 2 2 2]\n",
    "    [2 2 2 2 2]]\n",
    "    [[2 2 2 2 2]\n",
    "    [2 2 2 2 2]\n",
    "    [2 2 2 2 2]]"
   ]
  },
  {
   "cell_type": "code",
   "execution_count": 4,
   "metadata": {},
   "outputs": [
    {
     "name": "stdout",
     "output_type": "stream",
     "text": [
      "[[2 2 2 2 2]\n",
      " [2 2 2 2 2]\n",
      " [2 2 2 2 2]]\n",
      "[[2 2 2 2 2]\n",
      " [2 2 2 2 2]\n",
      " [2 2 2 2 2]]\n"
     ]
    }
   ],
   "source": [
    "#using no.full\n",
    "x = np.full((3, 5), 2, dtype=np.uint)\n",
    "print(x)\n",
    "#using no.ones\n",
    "y = np.ones([3, 5], dtype=np.uint) *2\n",
    "print(y)"
   ]
  },
  {
   "cell_type": "markdown",
   "metadata": {},
   "source": [
    "Q5. Write the NumPy program to create a 3-D array with ones on a\n",
    "diagonal and zeros elsewhere?\n",
    "\n",
    "    Expected Output-\n",
    "    [[ 1. 0. 0.]\n",
    "    [ 0. 1. 0.]\n",
    "    [ 0. 0. 1.]]"
   ]
  },
  {
   "cell_type": "code",
   "execution_count": 5,
   "metadata": {},
   "outputs": [
    {
     "name": "stdout",
     "output_type": "stream",
     "text": [
      "[[1. 0. 0.]\n",
      " [0. 1. 0.]\n",
      " [0. 0. 1.]]\n"
     ]
    }
   ],
   "source": [
    "x = np.eye(3)\n",
    "print(x)"
   ]
  },
  {
   "cell_type": "markdown",
   "metadata": {},
   "source": [
    "Q6. Write the NumPy program to split an array of 14 elements into the\n",
    "3 arrays and each of which has 2, 4, and 8 elements in original\n",
    "order?\n",
    "\n",
    "    Expected OutputOriginal array- [ 1 2 3 4 5 6 7 8 9 10 11 12 13 14]\n",
    "    After splitting-\n",
    "    [array([1, 2]), array([3, 4, 5, 6]), array([ 7, 8, 9, 10, 11, 12, 13, 14])]"
   ]
  },
  {
   "cell_type": "code",
   "execution_count": 6,
   "metadata": {},
   "outputs": [
    {
     "name": "stdout",
     "output_type": "stream",
     "text": [
      "orginal array:\n",
      " [ 1  2  3  4  5  6  7  8  9 10 11 12 13 14]\n",
      "After Splitting:\n",
      " [array([1, 2]), array([3, 4]), array([ 5,  6,  7,  8,  9, 10, 11, 12, 13, 14])]\n"
     ]
    }
   ],
   "source": [
    "x = np.arange(1, 15)\n",
    "print(\"orginal array:\\n\",x)\n",
    "print(\"After Splitting:\\n\", np.split(x, [2, 4]))"
   ]
  },
  {
   "cell_type": "markdown",
   "metadata": {},
   "source": [
    "Q7. Write the NumPy program to split of an array of shape 4x4 it into\n",
    "two arrays along the second axis ?\n",
    "\n",
    "    Sample array -\n",
    "    [[ 0 1 2 3]\n",
    "    [ 4 5 6 7]\n",
    "    [ 8 9 10 11]\n",
    "    [12 13 14 15]]\n",
    "    Expected Output-\n",
    "    [array([[ 0, 1],\n",
    "    [ 4, 5],\n",
    "    [ 8, 9],\n",
    "    [12, 13]]), array([[ 2, 3],\n",
    "    [ 6, 7],\n",
    "    [10, 11],\n",
    "    [14, 15]]), array([], shape=(4, 0), dtype=int64)]"
   ]
  },
  {
   "cell_type": "code",
   "execution_count": 7,
   "metadata": {},
   "outputs": [
    {
     "name": "stdout",
     "output_type": "stream",
     "text": [
      "Sample array:\n",
      " [[ 0  1  2  3]\n",
      " [ 4  5  6  7]\n",
      " [ 8  9 10 11]\n",
      " [12 13 14 15]]\n",
      "Output:\n",
      " [array([[ 0,  1],\n",
      "       [ 4,  5],\n",
      "       [ 8,  9],\n",
      "       [12, 13]]), array([[ 2,  3],\n",
      "       [ 6,  7],\n",
      "       [10, 11],\n",
      "       [14, 15]]), array([], shape=(4, 0), dtype=int32)]\n"
     ]
    }
   ],
   "source": [
    "x = np.arange(16).reshape(4,-4)\n",
    "print(\"Sample array:\\n\",x)\n",
    "print(\"Output:\\n\",np.hsplit(x,[2,6]))"
   ]
  },
  {
   "cell_type": "markdown",
   "metadata": {},
   "source": [
    "Q8. Write the NumPy program to create a 5x5 matrix with row values\n",
    "ranging from 0 to 4?\n",
    "\n",
    "    Original array-\n",
    "    [[ 0. 0. 0. 0. 0.]\n",
    "    [ 0. 0. 0. 0. 0.]\n",
    "    [ 0. 0. 0. 0. 0.]\n",
    "    [ 0. 0. 0. 0. 0.]\n",
    "    [ 0. 0. 0. 0. 0.]]\n",
    "    Row values ranging from 0 to 4.\n",
    "    [[ 0. 1. 2. 3. 4.]\n",
    "    [ 0. 1. 2. 3. 4.]\n",
    "    [ 0. 1. 2. 3. 4.]\n",
    "    [ 0. 1. 2. 3. 4.]\n",
    "    [ 0. 1. 2. 3. 4.]]"
   ]
  },
  {
   "cell_type": "code",
   "execution_count": 8,
   "metadata": {},
   "outputs": [
    {
     "name": "stdout",
     "output_type": "stream",
     "text": [
      "orignal array\n",
      " [[0. 0. 0. 0. 0.]\n",
      " [0. 0. 0. 0. 0.]\n",
      " [0. 0. 0. 0. 0.]\n",
      " [0. 0. 0. 0. 0.]\n",
      " [0. 0. 0. 0. 0.]]\n",
      "Row values ranging from 0 to 4:\n",
      " [[0. 1. 2. 3. 4.]\n",
      " [0. 1. 2. 3. 4.]\n",
      " [0. 1. 2. 3. 4.]\n",
      " [0. 1. 2. 3. 4.]\n",
      " [0. 1. 2. 3. 4.]]\n"
     ]
    }
   ],
   "source": [
    "x = np.zeros((5,5))\n",
    "print(\"orignal array\\n\",x)\n",
    "x += np.arange(5)\n",
    "print(\"Row values ranging from 0 to 4:\\n\",x)"
   ]
  },
  {
   "cell_type": "markdown",
   "metadata": {},
   "source": [
    "Q9. Write the NumPy program to create an array of zeros and three\n",
    "column types (integer, float, character)?\n",
    "\n",
    "    Expected Output-\n",
    "    [(1, 2., b'Albert Einstein') (2, 2., b'Edmond Halley')\n",
    "    (3, 3., b'Gertrude B. Elion')]"
   ]
  },
  {
   "cell_type": "code",
   "execution_count": 9,
   "metadata": {},
   "outputs": [
    {
     "name": "stdout",
     "output_type": "stream",
     "text": [
      "[(1, 2., b'Albert Einstein') (2, 2., b'Edmond Halley')\n",
      " (3, 3., b'Gertrude B. Elion')]\n"
     ]
    }
   ],
   "source": [
    "x = np.zeros((3,),dtype=('i4,f4,a40'))\n",
    "new_data = [(1, 2., 'Albert Einstein'),(2, 2., 'Edmond Halley'),(3, 3., 'Gertrude B. Elion')]\n",
    "x[:] = new_data \n",
    "print(x)"
   ]
  },
  {
   "cell_type": "markdown",
   "metadata": {},
   "source": [
    "Q10. Write the NumPy program to remove the negative values in the\n",
    "numpy array with 0?\n",
    "\n",
    "    Expected OutputOriginal array:\n",
    "    [-1 -4 0 2 3 4 5 -6]\n",
    "    Replace the negative values of the said array with 0-\n",
    "    [0 0 0 2 3 4 5 0]"
   ]
  },
  {
   "cell_type": "code",
   "execution_count": 10,
   "metadata": {},
   "outputs": [
    {
     "name": "stdout",
     "output_type": "stream",
     "text": [
      "orginal array:\n",
      " [-1 -4  0  2  3  4  5 -6]\n",
      "Replace the negative values of the said array with 0-\n",
      " [0 0 0 2 3 4 5 0]\n"
     ]
    }
   ],
   "source": [
    "x = np.array([-1, -4, 0, 2, 3, 4, 5, -6])\n",
    "print(\"orginal array:\\n\",x)\n",
    "\n",
    "x[x < 0]=0\n",
    "print(\"Replace the negative values of the said array with 0-\\n\",x)"
   ]
  },
  {
   "cell_type": "markdown",
   "metadata": {},
   "source": [
    "Q11. Write the NumPy program to compute the histogram of a set of\n",
    "data?"
   ]
  },
  {
   "cell_type": "code",
   "execution_count": 12,
   "metadata": {},
   "outputs": [
    {
     "data": {
      "image/png": "[encoded data removed]",
      "text/plain": [
       "<Figure size 432x288 with 1 Axes>"
      ]
     },
     "metadata": {
      "needs_background": "light"
     },
     "output_type": "display_data"
    }
   ],
   "source": [
    "a = np.array([22,87,5,43,56,73,55,54,11,20,51,5,79,31,27]) \n",
    "plt.hist(a, bins = [0,20,40,60,80,100]) \n",
    "plt.title(\"histogram\") \n",
    "plt.show()"
   ]
  },
  {
   "cell_type": "markdown",
   "metadata": {},
   "source": [
    "Q12. Write the NumPy program to compute the line graph of a set of\n",
    "data?"
   ]
  },
  {
   "cell_type": "code",
   "execution_count": 13,
   "metadata": {},
   "outputs": [
    {
     "data": {
      "image/png": "[encoded data removed]",
      "text/plain": [
       "<Figure size 432x288 with 1 Axes>"
      ]
     },
     "metadata": {
      "needs_background": "light"
     },
     "output_type": "display_data"
    }
   ],
   "source": [
    "x = np.arange(1,11) \n",
    "y = 2 * x + 5 \n",
    "plt.title(\"line graph\") \n",
    "plt.xlabel(\"x axis \") \n",
    "plt.ylabel(\"y axis \") \n",
    "plt.plot(x,y) \n",
    "plt.show()"
   ]
  },
  {
   "cell_type": "markdown",
   "metadata": {},
   "source": [
    "Q13. Write the NumPy program to extracts all the elements from second\n",
    "row from given (4x4) array?\n",
    "    \n",
    "    Sample OutputOriginal array-\n",
    "    [[ 0 1 2 3]\n",
    "    [ 4 5 6 7]\n",
    "    [ 8 9 10 11]\n",
    "    [12 13 14 15]]\n",
    "    Extracted data- Second row\n",
    "    [4 5 6 7]"
   ]
  },
  {
   "cell_type": "code",
   "execution_count": 14,
   "metadata": {},
   "outputs": [
    {
     "name": "stdout",
     "output_type": "stream",
     "text": [
      "Orginal array:\n",
      " [[ 0  1  2  3]\n",
      " [ 4  5  6  7]\n",
      " [ 8  9 10 11]\n",
      " [12 13 14 15]]\n",
      "Extracted data- Second row-\n",
      " [4 5 6 7]\n"
     ]
    }
   ],
   "source": [
    "arra_data = np.arange(0, 16).reshape(4,4)\n",
    "print(\"Orginal array:\\n\",arra_data)\n",
    "print(\"Extracted data- Second row-\\n\",arra_data[1,:])"
   ]
  },
  {
   "cell_type": "markdown",
   "metadata": {},
   "source": [
    "Q14. Write the NumPy program to extract first element of the second\n",
    "row and fourth element of fourth row from a given (4x4) array?\n",
    "\n",
    "    Sample OutputOriginal array-\n",
    "    [[ 0 1 2 3]\n",
    "    [ 4 5 6 7]\n",
    "    [ 8 9 10 11]\n",
    "    [12 13 14 15]]\n",
    "    Extracted data- First element of the second row and fourth element of fourth row\n",
    "    [ 4 15]\n"
   ]
  },
  {
   "cell_type": "code",
   "execution_count": 15,
   "metadata": {},
   "outputs": [
    {
     "name": "stdout",
     "output_type": "stream",
     "text": [
      "Original array-\n",
      " [[ 0  1  2  3]\n",
      " [ 4  5  6  7]\n",
      " [ 8  9 10 11]\n",
      " [12 13 14 15]]\n",
      "Extracted data- First element of the second row and fourth element of fourth row:\n",
      " [ 4 15]\n"
     ]
    }
   ],
   "source": [
    "arra_data = np.arange(0,16).reshape(4,4)\n",
    "print(\"Original array-\\n\",arra_data)\n",
    "print(\"Extracted data- First element of the second row and fourth element of fourth row:\\n\",arra_data[[1,3],[0,3]])"
   ]
  },
  {
   "cell_type": "markdown",
   "metadata": {},
   "source": [
    "Q15. Write the NumPy program to add two arrays A and B of sizes (3,3)\n",
    "and (,3)?\n",
    "\n",
    "    Sample OutputOriginal arrayArray-1\n",
    "    [[1 1 1]\n",
    "    [1 1 1]\n",
    "    [1 1 1]]\n",
    "    Array-2\n",
    "    [0 1 2]\n",
    "    A + B:\n",
    "    [[1 2 3]\n",
    "    [1 2 3]\n",
    "    [1 2 3]]"
   ]
  },
  {
   "cell_type": "code",
   "execution_count": 16,
   "metadata": {},
   "outputs": [
    {
     "name": "stdout",
     "output_type": "stream",
     "text": [
      "Original arrayArray-1\n",
      " [[1 1 1]\n",
      " [1 1 1]\n",
      " [1 1 1]]\n",
      "Original arrayArray-1\n",
      " [0 1 2]\n",
      "A+B:\n",
      " [[1 2 3]\n",
      " [1 2 3]\n",
      " [1 2 3]]\n"
     ]
    }
   ],
   "source": [
    "A = np.ones((3,3),dtype='int')\n",
    "B = np.arange(3)\n",
    "print(\"Original arrayArray-1\\n\",A)\n",
    "print(\"Original arrayArray-1\\n\",B)\n",
    "new_array = A+B\n",
    "print(\"A+B:\\n\",new_array)\n"
   ]
  },
  {
   "cell_type": "markdown",
   "metadata": {},
   "source": [
    "Q16. Write the NumPy program to copy data from a given array to\n",
    "another array?\n",
    "\n",
    "    Sample OutputOriginal array-\n",
    "    [24 27 30 29 18 14]\n",
    "    Copy of the said array-\n",
    "    [24 27 30 29 18 14]"
   ]
  },
  {
   "cell_type": "code",
   "execution_count": 17,
   "metadata": {},
   "outputs": [
    {
     "name": "stdout",
     "output_type": "stream",
     "text": [
      "Original array-\n",
      " [24 27 30 29 18 14]\n",
      "Copy of the said array-\n",
      " [24 27 30 29 18 14]\n"
     ]
    }
   ],
   "source": [
    "X = np.array([24, 27, 30, 29, 18, 14])\n",
    "print(\"Original array-\\n\",X)\n",
    "y = np.empty_like(X)\n",
    "y[:] = X\n",
    "print(\"Copy of the said array-\\n\",y)"
   ]
  },
  {
   "cell_type": "markdown",
   "metadata": {},
   "source": [
    "Q17. Write the NumPy program to calculate the sum of all columns of\n",
    "the 2D numpy array?\n",
    "    \n",
    "    Sample OutputOriginal array-\n",
    "    [[ 0 1 2 3 4 5 6 7 8]\n",
    "    [ 9 10 11 12 13 14 15 16 17]\n",
    "    [18 19 20 21 22 23 24 25 26]\n",
    "    [27 28 29 30 31 32 33 34 35]]\n",
    "    Sum of all columns-\n",
    "    [54 58 62 66 70 74 78 82 86]"
   ]
  },
  {
   "cell_type": "code",
   "execution_count": 18,
   "metadata": {},
   "outputs": [
    {
     "name": "stdout",
     "output_type": "stream",
     "text": [
      "Original array-\n",
      " [[ 0  1  2  3  4  5  6  7  8]\n",
      " [ 9 10 11 12 13 14 15 16 17]\n",
      " [18 19 20 21 22 23 24 25 26]\n",
      " [27 28 29 30 31 32 33 34 35]]\n",
      " Sum of all columns-\n",
      " [54 58 62 66 70 74 78 82 86]\n"
     ]
    }
   ],
   "source": [
    "X = np.arange(0,36).reshape(4,9)\n",
    "print(\"Original array-\\n\",X)\n",
    "\n",
    "result = X.sum(axis=0)\n",
    "print(\" Sum of all columns-\\n\",result)\n"
   ]
  },
  {
   "cell_type": "markdown",
   "metadata": {},
   "source": [
    "Q18. Write the NumPy program to calculate averages without NaNs\n",
    "along the given array?\n",
    "    \n",
    "    Sample OutputOriginal array-\n",
    "    [[10. 20. 30.]\n",
    "    [40. 50. nan]\n",
    "    [nan 6. nan]\n",
    "    [nan nan nan]]\n",
    "    Averages without NaNs along the said array-\n",
    "    [20. 45. 6. nan]"
   ]
  },
  {
   "cell_type": "code",
   "execution_count": 19,
   "metadata": {},
   "outputs": [
    {
     "name": "stdout",
     "output_type": "stream",
     "text": [
      "Original array:\n",
      " [[10. 20. 30.]\n",
      " [40. 50. nan]\n",
      " [nan  6. nan]\n",
      " [nan nan nan]]\n",
      "Averages without NaNs along the said array-\n",
      " [20. 45.  6. nan]\n"
     ]
    }
   ],
   "source": [
    "arr1 = np.array([[10, 20, 30],[40, 50, np.nan],[np.nan, 6, np.nan],[np.nan, np.nan, np.nan]])\n",
    "print(\"Original array:\\n\",arr1)\n",
    "\n",
    "temp = np.ma.masked_array(arr1,np.isnan(arr1))\n",
    "result = np.mean(temp, axis=1)\n",
    "print(\"Averages without NaNs along the said array-\\n\",result.filled(np.nan))"
   ]
  },
  {
   "cell_type": "markdown",
   "metadata": {},
   "source": [
    "## Great Job!"
   ]
  }
 ],
 "metadata": {
  "kernelspec": {
   "display_name": "Python 3",
   "language": "python",
   "name": "python3"
  },
  "language_info": {
   "codemirror_mode": {
    "name": "ipython",
    "version": 3
   },
   "file_extension": ".py",
   "mimetype": "text/x-python",
   "name": "python",
   "nbconvert_exporter": "python",
   "pygments_lexer": "ipython3",
   "version": "3.7.4"
  }
 },
 "nbformat": 4,
 "nbformat_minor": 2
}
