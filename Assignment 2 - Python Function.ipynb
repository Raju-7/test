{
 "cells": [
  {
   "cell_type": "markdown",
   "metadata": {},
   "source": [
    "## Problem Statement"
   ]
  },
  {
   "cell_type": "markdown",
   "metadata": {},
   "source": [
    "Q.1 Write a Python Program to implement your own myreduce() function which works exactly like\n",
    "Python's built-in function reduce()\n"
   ]
  },
  {
   "cell_type": "code",
   "execution_count": 3,
   "metadata": {},
   "outputs": [
    {
     "name": "stdout",
     "output_type": "stream",
     "text": [
      "120\n",
      "0.041666666666666664\n"
     ]
    }
   ],
   "source": [
    "from functools import reduce\n",
    "\n",
    "def my_reduce(fnc, seq):\n",
    "    t = seq[0]\n",
    "    for next in seq[1:]:\n",
    "        tally = fnc(t, seq)\n",
    "    return tally\n",
    "\n",
    "mul = reduce((lambda x,y:x*y),[1,2,3,4,5])\n",
    "print(mul)\n",
    "div = reduce((lambda x, y: x / y), [1, 2, 3, 4])\n",
    "print(div)"
   ]
  },
  {
   "cell_type": "markdown",
   "metadata": {},
   "source": [
    "Q.2 Write a Python program to implement your own myfilter() function which works exactly like\n",
    "Python's built-in function filter()"
   ]
  },
  {
   "cell_type": "code",
   "execution_count": 4,
   "metadata": {},
   "outputs": [
    {
     "name": "stdout",
     "output_type": "stream",
     "text": [
      "[2, 4, 6, 8]\n"
     ]
    }
   ],
   "source": [
    "nums = [2,3,4,5,6,7,8,9]\n",
    "evens = list(filter(lambda n : n%2==0, nums))\n",
    "print(evens)"
   ]
  },
  {
   "cell_type": "markdown",
   "metadata": {},
   "source": [
    "Q.3 Implement List comprehensions to produce the following lists.\n",
    "   Write List comprehensions to produce the following Lists\n",
    "   \n",
    "    ['A', 'C', 'A', 'D', 'G', 'I', ’L’, ‘ D’]\n",
    "   \n",
    "    ['x', 'xx', 'xxx', 'xxxx', 'y', 'yy', 'yyy', 'yyyy', 'z', 'zz', 'zzz', 'zzzz']\n",
    "\n",
    "    ['x', 'y', 'z', 'xx', 'yy', 'zz', 'xx', 'yy', 'zz', 'xxxx', 'yyyy', 'zzzz']\n",
    "    \n",
    "    [[2], [3], [4], [3], [4], [5], [4], [5], [6]]\n",
    "\n",
    "    [[2, 3, 4, 5], [3, 4, 5, 6], [4, 5, 6, 7], [5, 6, 7, 8]]\n",
    "\n",
    "    [(1, 1), (2, 1), (3, 1), (1, 2), (2, 2), (3, 2), (1, 3), (2, 3), (3, 3)]"
   ]
  },
  {
   "cell_type": "code",
   "execution_count": 5,
   "metadata": {},
   "outputs": [
    {
     "name": "stdout",
     "output_type": "stream",
     "text": [
      "ACADGILD =>  ['A', 'C', 'A', 'D', 'G', 'I', 'L', 'D']\n",
      " \n",
      "['X', 'Y', 'Z'] => ['X', 'XX', 'XXX', 'XXXX', 'Y', 'YY', 'YYY', 'YYYY', 'Z', 'ZZ', 'ZZZ', 'ZZZZ']\n",
      " \n",
      "['x','y','z'] => ['x', 'y', 'z', 'xx', 'yy', 'zz', 'xxx', 'yyy', 'zzz', 'xxxx', 'yyyy', 'zzzz']\n",
      "\n",
      "[2,3,4] => [[2], [3], [4], [3], [4], [5], [4], [5], [6]]\n",
      "\n",
      "[2,3,4,5] => [[2, 3, 4, 5], [3, 4, 5, 6], [4, 5, 6, 7], [5, 6, 7, 8]]\n",
      "\n",
      "[1,2,3] => [(1, 1), (2, 1), (3, 1), (1, 2), (2, 2), (3, 2), (1, 3), (2, 3), (3, 3)]\n"
     ]
    }
   ],
   "source": [
    "import functools\n",
    "\n",
    "word = \"ACADGILD\"\n",
    "alphabet_list = [alphabet for alphabet in word]\n",
    "print(\"ACADGILD =>  \"+str(alphabet_list))\n",
    "print(' ')\n",
    "input_list = ['X', 'Y', 'Z']\n",
    "result = [item*num for item in input_list for num in range (1, 5)]\n",
    "print(\"['X', 'Y', 'Z'] => \" + str((result)))\n",
    "print(' ')\n",
    "input_list = ['x','y','z']\n",
    "result = [ item*num for num in range(1,5) for item in input_list  ]\n",
    "print(\"['x','y','z'] => \" +   str(result))\n",
    "print( )\n",
    "input_list = [2, 3, 4]\n",
    "result = [[item+num] for item in input_list for num in range(0,3)]\n",
    "print(\"[2,3,4] => \" + str(result))\n",
    "print()\n",
    "input_list = [2,3,4,5]\n",
    "result = [[item+num for item in input_list] for num in range(0,4)]\n",
    "print(\"[2,3,4,5] => \" +  str(result))\n",
    "print()\n",
    "input_list=[1,2,3]\n",
    "result = [(b,a) for a in input_list for b in input_list]\n",
    "print(\"[1,2,3] => \" + str(result))"
   ]
  },
  {
   "cell_type": "markdown",
   "metadata": {},
   "source": [
    "Q.4 Implement a function longestWord() that takes a list of words and returns the longest one."
   ]
  },
  {
   "cell_type": "code",
   "execution_count": 7,
   "metadata": {},
   "outputs": [
    {
     "name": "stdout",
     "output_type": "stream",
     "text": [
      "list of words to evaluate: sentence word is a single word that forms a full sentence\n",
      "The longest word is sentence with_length 8\n"
     ]
    }
   ],
   "source": [
    "def main():\n",
    "    text = input(\"list of words to evaluate: \")\n",
    "    \n",
    "    longest = 0\n",
    "    \n",
    "    for words in text.split():\n",
    "        if len(words) > longest:\n",
    "            longest = len(words)\n",
    "            longest_word = words\n",
    "    print(\"The longest word is\",longest_word,\"with_length\",len(longest_word))\n",
    "main()"
   ]
  },
  {
   "cell_type": "markdown",
   "metadata": {},
   "source": [
    "Q.5 Write a Python Program(with class concepts) to find the area of the triangle using the below\n",
    "formula.\n",
    "\n",
    "area = (s*(s-a)*(s-b)*(s-c)) ** 0.5\n",
    "\n",
    "Function to take the length of the sides of triangle from user should be defined in the parent\n",
    "class and function to calculate the area should be defined in subclass."
   ]
  },
  {
   "cell_type": "code",
   "execution_count": 6,
   "metadata": {},
   "outputs": [
    {
     "name": "stdout",
     "output_type": "stream",
     "text": [
      "Please Enter the First side of a Triangle: 5\n",
      "Please Enter the Second side of a Triangle: 6\n",
      "Please Enter the Third side of a Triangle: 7\n",
      "\n",
      " The Perimeter of Traiangle = 18.00\n",
      " The Semi Perimeter of Traiangle = 9.00\n",
      " The Area of a Triangle is 14.70\n"
     ]
    }
   ],
   "source": [
    "# Python Program to find Area of a Triangle\n",
    "\n",
    "a = float(input('Please Enter the First side of a Triangle: '))\n",
    "b = float(input('Please Enter the Second side of a Triangle: '))\n",
    "c = float(input('Please Enter the Third side of a Triangle: '))\n",
    "\n",
    "# calculate the Perimeter\n",
    "Perimeter = a + b + c\n",
    "\n",
    "# calculate the semi-perimeter\n",
    "s = (a + b + c) / 2\n",
    "\n",
    "# calculate the area\n",
    "Area = (s*(s-a)*(s-b)*(s-c)) ** 0.5\n",
    "\n",
    "print(\"\\n The Perimeter of Traiangle = %.2f\" %Perimeter);\n",
    "print(\" The Semi Perimeter of Traiangle = %.2f\" %s);\n",
    "print(\" The Area of a Triangle is %0.2f\" %Area)"
   ]
  },
  {
   "cell_type": "markdown",
   "metadata": {},
   "source": [
    "Q.6 Write a function filter_long_words() that takes a list of words and an integer n and returns the list\n",
    "of words that are longer than n."
   ]
  },
  {
   "cell_type": "code",
   "execution_count": 9,
   "metadata": {},
   "outputs": [
    {
     "name": "stdout",
     "output_type": "stream",
     "text": [
      "Enter words, separated by spaces: sentence word is a single word that forms a full sentence\n",
      "Minimum length of words to keep: 6\n",
      "Words longer than 6 are sentence, single, sentence.\n"
     ]
    }
   ],
   "source": [
    "def longwords(wordlist, length):\n",
    "    return (word for word in wordlist if len(word) >= length)\n",
    "\n",
    "def main():\n",
    "    words = input(\"Enter words, separated by spaces: \").split()\n",
    "    length = int(input(\"Minimum length of words to keep: \"))\n",
    "    print(\"Words longer than {} are {}.\".format(length,', '.join(longwords(words, length))))\n",
    "\n",
    "main()"
   ]
  },
  {
   "cell_type": "markdown",
   "metadata": {},
   "source": [
    "Q.7 Write a Python program using function concept that maps list of words into a list of integers\n",
    "representing the lengths of the corresponding words.\n",
    "    \n",
    "    Hint: If a list [ ab,cde,erty] is passed on to the python function output should come as [2,3,4]\n",
    "    Here 2,3 and 4 are the lengths of the words in the list."
   ]
  },
  {
   "cell_type": "code",
   "execution_count": 10,
   "metadata": {},
   "outputs": [
    {
     "name": "stdout",
     "output_type": "stream",
     "text": [
      "Words length in list :[8, 4, 2, 1, 6, 4, 4, 5, 1, 4, 8]\n"
     ]
    }
   ],
   "source": [
    "wordlist = ['sentence','word','is','a','single','word','that','forms','a','full','sentence']\n",
    "def wordlength(wordlist):\n",
    "    return list(map(lambda x: len(x), wordlist))\n",
    "print('Words length in list :' + str(wordlength(wordlist)))\n",
    "    "
   ]
  },
  {
   "cell_type": "markdown",
   "metadata": {},
   "source": [
    "Q.8 Write a Python function which takes a character (i.e. a string of length 1) and returns True if it is\n",
    "a vowel, False otherwise."
   ]
  },
  {
   "cell_type": "code",
   "execution_count": 11,
   "metadata": {},
   "outputs": [
    {
     "name": "stdout",
     "output_type": "stream",
     "text": [
      "False\n",
      "True\n"
     ]
    }
   ],
   "source": [
    "def is_vowel(char):\n",
    "    all_vowels = 'aeiou'\n",
    "    return char in all_vowels\n",
    "print(is_vowel('c'))\n",
    "print(is_vowel('e'))"
   ]
  },
  {
   "cell_type": "markdown",
   "metadata": {},
   "source": [
    "## Great job!"
   ]
  }
 ],
 "metadata": {
  "kernelspec": {
   "display_name": "Python 3",
   "language": "python",
   "name": "python3"
  },
  "language_info": {
   "codemirror_mode": {
    "name": "ipython",
    "version": 3
   },
   "file_extension": ".py",
   "mimetype": "text/x-python",
   "name": "python",
   "nbconvert_exporter": "python",
   "pygments_lexer": "ipython3",
   "version": "3.7.4"
  }
 },
 "nbformat": 4,
 "nbformat_minor": 2
}
